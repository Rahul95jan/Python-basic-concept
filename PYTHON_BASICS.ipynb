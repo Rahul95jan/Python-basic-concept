{
  "nbformat": 4,
  "nbformat_minor": 0,
  "metadata": {
    "colab": {
      "provenance": [],
      "authorship_tag": "ABX9TyORBRG81vD0Ko2ynVpM+0jV",
      "include_colab_link": true
    },
    "kernelspec": {
      "name": "python3",
      "display_name": "Python 3"
    },
    "language_info": {
      "name": "python"
    }
  },
  "cells": [
    {
      "cell_type": "markdown",
      "metadata": {
        "id": "view-in-github",
        "colab_type": "text"
      },
      "source": [
        "<a href=\"https://colab.research.google.com/github/Rahul95jan/Rahul/blob/main/PYTHON_BASICS.ipynb\" target=\"_parent\"><img src=\"https://colab.research.google.com/assets/colab-badge.svg\" alt=\"Open In Colab\"/></a>"
      ]
    },
    {
      "cell_type": "code",
      "source": [
        "## Append methods add single items in the existing list\n",
        "# syntex : List.Append(items)"
      ],
      "metadata": {
        "id": "yq-lqbKW259Q"
      },
      "execution_count": null,
      "outputs": []
    },
    {
      "cell_type": "code",
      "source": [
        "List_new = [1,5,4]\n"
      ],
      "metadata": {
        "id": "HaJvBIm53Kq5"
      },
      "execution_count": 71,
      "outputs": []
    },
    {
      "cell_type": "code",
      "source": [
        "print(List_new)"
      ],
      "metadata": {
        "colab": {
          "base_uri": "https://localhost:8080/"
        },
        "id": "dqQhhG3k3Knj",
        "outputId": "c15efe80-72af-4fa7-d2cd-20269fbf06d8"
      },
      "execution_count": 73,
      "outputs": [
        {
          "output_type": "stream",
          "name": "stdout",
          "text": [
            "[1, 5, 4]\n"
          ]
        }
      ]
    },
    {
      "cell_type": "code",
      "source": [
        "List_new.append(3)"
      ],
      "metadata": {
        "id": "exOG9E4F3KiL"
      },
      "execution_count": 74,
      "outputs": []
    },
    {
      "cell_type": "code",
      "source": [
        "print(List_new)"
      ],
      "metadata": {
        "colab": {
          "base_uri": "https://localhost:8080/"
        },
        "id": "xWl687U8256K",
        "outputId": "51662f2e-ba79-4ebc-8f18-e2642e723e35"
      },
      "execution_count": 76,
      "outputs": [
        {
          "output_type": "stream",
          "name": "stdout",
          "text": [
            "[1, 5, 4, 3]\n"
          ]
        }
      ]
    },
    {
      "cell_type": "code",
      "source": [
        "#Extend syntex : list.extend(list2)\n",
        "\n",
        "#Add the list from multiple list"
      ],
      "metadata": {
        "id": "EexmqOo70ZUd"
      },
      "execution_count": null,
      "outputs": []
    },
    {
      "cell_type": "code",
      "source": [
        "AB = [2,5,8,9]\n",
        "print(AB)"
      ],
      "metadata": {
        "colab": {
          "base_uri": "https://localhost:8080/"
        },
        "id": "zzUqY3gJ0ZRB",
        "outputId": "7fe55133-03c5-43c2-a8c6-9147b7712497"
      },
      "execution_count": 58,
      "outputs": [
        {
          "output_type": "stream",
          "name": "stdout",
          "text": [
            "[2, 5, 8, 9]\n"
          ]
        }
      ]
    },
    {
      "cell_type": "code",
      "source": [
        "AB.extend([12,15,16,18])"
      ],
      "metadata": {
        "id": "aK_cXE2R1Kvc"
      },
      "execution_count": 59,
      "outputs": []
    },
    {
      "cell_type": "code",
      "source": [
        "print(AB)"
      ],
      "metadata": {
        "colab": {
          "base_uri": "https://localhost:8080/"
        },
        "id": "XIJn5c4I1R3f",
        "outputId": "7a8d404a-fd86-4d19-ab43-677e317442d0"
      },
      "execution_count": 60,
      "outputs": [
        {
          "output_type": "stream",
          "name": "stdout",
          "text": [
            "[2, 5, 8, 9, 12, 15, 16, 18]\n"
          ]
        }
      ]
    },
    {
      "cell_type": "code",
      "source": [
        "#insert\n",
        "# give the elements to the first list as given index\n",
        "# syntex :list.insert(index,item)\n"
      ],
      "metadata": {
        "id": "wuLxJTzK1Vp1"
      },
      "execution_count": null,
      "outputs": []
    },
    {
      "cell_type": "code",
      "source": [
        "BA = [2,3,4]\n",
        "print(BA)\n",
        "\n"
      ],
      "metadata": {
        "colab": {
          "base_uri": "https://localhost:8080/"
        },
        "id": "G2fIyMnO1VmQ",
        "outputId": "b46f6880-4f13-4f80-ca84-6be3131bca0e"
      },
      "execution_count": 67,
      "outputs": [
        {
          "output_type": "stream",
          "name": "stdout",
          "text": [
            "[2, 3, 4]\n"
          ]
        }
      ]
    },
    {
      "cell_type": "code",
      "source": [
        "BA.insert(0,25)\n",
        "print(BA)"
      ],
      "metadata": {
        "colab": {
          "base_uri": "https://localhost:8080/"
        },
        "id": "eN46DZDH2ZRd",
        "outputId": "242d819f-8c48-438f-d7bb-b264ae3566ba"
      },
      "execution_count": 68,
      "outputs": [
        {
          "output_type": "stream",
          "name": "stdout",
          "text": [
            "[25, 2, 3, 4]\n"
          ]
        }
      ]
    }
  ]
}