{
  "nbformat": 4,
  "nbformat_minor": 0,
  "metadata": {
    "colab": {
      "provenance": [],
      "authorship_tag": "ABX9TyM6pCh2jBE6Y+Zu5jKTlDgq",
      "include_colab_link": true
    },
    "kernelspec": {
      "name": "python3",
      "display_name": "Python 3"
    },
    "language_info": {
      "name": "python"
    }
  },
  "cells": [
    {
      "cell_type": "markdown",
      "metadata": {
        "id": "view-in-github",
        "colab_type": "text"
      },
      "source": [
        "<a href=\"https://colab.research.google.com/github/Rahul95jan/Python-basic-concept/blob/main/Basics_of_Python.ipynb\" target=\"_parent\"><img src=\"https://colab.research.google.com/assets/colab-badge.svg\" alt=\"Open In Colab\"/></a>"
      ]
    },
    {
      "cell_type": "code",
      "source": [
        "#PYTHON_STRING\n",
        "#STRING CAN BE CREATED ENCLOSED CHARACTERS INSIDE A SINGLE QOUTES OR DOUBLE QOUTES"
      ],
      "metadata": {
        "id": "ELcQIvOjdWXI"
      },
      "execution_count": null,
      "outputs": []
    },
    {
      "cell_type": "code",
      "source": [
        "name = \"rahul\"\n",
        "paragarph = '''this is a multiline string paragraph'''"
      ],
      "metadata": {
        "id": "c5CCfdOVdWTl"
      },
      "execution_count": 30,
      "outputs": []
    },
    {
      "cell_type": "code",
      "source": [
        "print(paragarph)"
      ],
      "metadata": {
        "colab": {
          "base_uri": "https://localhost:8080/"
        },
        "id": "On2ObXRUd2q_",
        "outputId": "00d9f980-0b40-4493-ff0c-dfc171f505f9"
      },
      "execution_count": 31,
      "outputs": [
        {
          "output_type": "stream",
          "name": "stdout",
          "text": [
            "this is a multiline string paragraph\n"
          ]
        }
      ]
    },
    {
      "cell_type": "code",
      "source": [],
      "metadata": {
        "id": "o2Eb1P6WdmgN"
      },
      "execution_count": null,
      "outputs": []
    },
    {
      "cell_type": "code",
      "source": [
        "# INDEXING\n",
        "# INDEXING : start from zero(0)\n",
        "# negative indexing also used "
      ],
      "metadata": {
        "id": "hHGXVklDdWQ7"
      },
      "execution_count": null,
      "outputs": []
    },
    {
      "cell_type": "code",
      "source": [
        "Fruit = \"apple\"\n",
        "print(Fruit[3])"
      ],
      "metadata": {
        "colab": {
          "base_uri": "https://localhost:8080/"
        },
        "id": "WrH7yuJAdWNd",
        "outputId": "8af8dbf3-e925-4fb1-96fc-38b931418f59"
      },
      "execution_count": 42,
      "outputs": [
        {
          "output_type": "stream",
          "name": "stdout",
          "text": [
            "l\n"
          ]
        }
      ]
    },
    {
      "cell_type": "code",
      "source": [
        "print(Fruit[-2]) #Negative indexing for its sequence"
      ],
      "metadata": {
        "colab": {
          "base_uri": "https://localhost:8080/"
        },
        "id": "27C88Bg9dWKo",
        "outputId": "f6a41ccc-272a-4620-d0d2-8799a4a46751"
      },
      "execution_count": 44,
      "outputs": [
        {
          "output_type": "stream",
          "name": "stdout",
          "text": [
            "l\n"
          ]
        }
      ]
    },
    {
      "cell_type": "code",
      "source": [],
      "metadata": {
        "id": "mXrgW41UdWHW"
      },
      "execution_count": null,
      "outputs": []
    },
    {
      "cell_type": "code",
      "source": [
        "#Slicing \n",
        "# We can acess individual charchetrs using indexing and a rage of charcters using slicing.\n"
      ],
      "metadata": {
        "id": "Ou2j8bG5dWEg"
      },
      "execution_count": null,
      "outputs": []
    },
    {
      "cell_type": "code",
      "source": [
        "s = 'abcde'\n",
        "s[1:4]"
      ],
      "metadata": {
        "colab": {
          "base_uri": "https://localhost:8080/",
          "height": 36
        },
        "id": "a9fY0uS6dWB3",
        "outputId": "7ac9586d-8fce-4f77-8917-4e235e3a884e"
      },
      "execution_count": 47,
      "outputs": [
        {
          "output_type": "execute_result",
          "data": {
            "text/plain": [
              "'bcd'"
            ],
            "application/vnd.google.colaboratory.intrinsic+json": {
              "type": "string"
            }
          },
          "metadata": {},
          "execution_count": 47
        }
      ]
    },
    {
      "cell_type": "code",
      "source": [
        "s[:4]"
      ],
      "metadata": {
        "colab": {
          "base_uri": "https://localhost:8080/",
          "height": 36
        },
        "id": "8aSkeMkYf7Wv",
        "outputId": "a3d17ad1-85bc-4907-9bb1-a4cc1cb05018"
      },
      "execution_count": 48,
      "outputs": [
        {
          "output_type": "execute_result",
          "data": {
            "text/plain": [
              "'abcd'"
            ],
            "application/vnd.google.colaboratory.intrinsic+json": {
              "type": "string"
            }
          },
          "metadata": {},
          "execution_count": 48
        }
      ]
    },
    {
      "cell_type": "code",
      "source": [
        "s[0:2:1]"
      ],
      "metadata": {
        "colab": {
          "base_uri": "https://localhost:8080/",
          "height": 36
        },
        "id": "3fXV9hHcdV-_",
        "outputId": "948bd2a8-4143-4171-ea29-9666265a335b"
      },
      "execution_count": 51,
      "outputs": [
        {
          "output_type": "execute_result",
          "data": {
            "text/plain": [
              "'ab'"
            ],
            "application/vnd.google.colaboratory.intrinsic+json": {
              "type": "string"
            }
          },
          "metadata": {},
          "execution_count": 51
        }
      ]
    },
    {
      "cell_type": "code",
      "source": [
        "s[::2]"
      ],
      "metadata": {
        "colab": {
          "base_uri": "https://localhost:8080/",
          "height": 36
        },
        "id": "W6UxpSRedV8C",
        "outputId": "adf0478d-254e-4c14-8cde-57434467d123"
      },
      "execution_count": 55,
      "outputs": [
        {
          "output_type": "execute_result",
          "data": {
            "text/plain": [
              "'ace'"
            ],
            "application/vnd.google.colaboratory.intrinsic+json": {
              "type": "string"
            }
          },
          "metadata": {},
          "execution_count": 55
        }
      ]
    },
    {
      "cell_type": "markdown",
      "source": [
        "# + operators are use to concatenate the string\n",
        "#to add two string and make new string"
      ],
      "metadata": {
        "id": "HkQ_5f4_g-AD"
      }
    },
    {
      "cell_type": "code",
      "source": [
        "a = 'abc'\n",
        "b = 'def'"
      ],
      "metadata": {
        "id": "g_OEAfggdV5N"
      },
      "execution_count": 56,
      "outputs": []
    },
    {
      "cell_type": "code",
      "source": [
        "c = a+b\n",
        "print(c)"
      ],
      "metadata": {
        "colab": {
          "base_uri": "https://localhost:8080/"
        },
        "id": "EsUI8lpUdV2F",
        "outputId": "22c317f3-5eb4-4c07-e3b3-344cf9df1ea5"
      },
      "execution_count": 57,
      "outputs": [
        {
          "output_type": "stream",
          "name": "stdout",
          "text": [
            "abcdef\n"
          ]
        }
      ]
    },
    {
      "cell_type": "code",
      "source": [
        "c = a*3\n",
        "print(c)"
      ],
      "metadata": {
        "colab": {
          "base_uri": "https://localhost:8080/"
        },
        "id": "L6YyDOlogvxa",
        "outputId": "21132764-b40a-42a2-fe25-01c5060a696c"
      },
      "execution_count": 58,
      "outputs": [
        {
          "output_type": "stream",
          "name": "stdout",
          "text": [
            "abcabcabc\n"
          ]
        }
      ]
    },
    {
      "cell_type": "code",
      "execution_count": 8,
      "metadata": {
        "colab": {
          "base_uri": "https://localhost:8080/"
        },
        "id": "50sbxtcEYj2_",
        "outputId": "eb16f679-3a2b-49da-e7ae-36893082c24e"
      },
      "outputs": [
        {
          "output_type": "stream",
          "name": "stdout",
          "text": [
            "anujanuj\n",
            "rohitrohit\n",
            "rahulrahul\n"
          ]
        }
      ],
      "source": [
        "#PYTHON LOOP\n",
        "# For loop use to when we know howm much time iterate the data\n",
        "\n",
        "a = ['anuj','rohit','rahul']\n",
        "for name in a:\n",
        "  print(name*)"
      ]
    },
    {
      "cell_type": "code",
      "source": [
        "a = 'abc'\n",
        "for my_char in a:\n",
        "  print(my_char*2)"
      ],
      "metadata": {
        "colab": {
          "base_uri": "https://localhost:8080/"
        },
        "id": "z3H3TneShggl",
        "outputId": "b2a94ee1-39e1-4568-eca4-d69c91e31f84"
      },
      "execution_count": 59,
      "outputs": [
        {
          "output_type": "stream",
          "name": "stdout",
          "text": [
            "aa\n",
            "bb\n",
            "cc\n"
          ]
        }
      ]
    },
    {
      "cell_type": "code",
      "source": [],
      "metadata": {
        "id": "Bm1Os1buhgdE"
      },
      "execution_count": null,
      "outputs": []
    },
    {
      "cell_type": "code",
      "source": [],
      "metadata": {
        "id": "_CYABc8bhgan"
      },
      "execution_count": null,
      "outputs": []
    },
    {
      "cell_type": "code",
      "source": [],
      "metadata": {
        "id": "_O-S_py4hgX6"
      },
      "execution_count": null,
      "outputs": []
    },
    {
      "cell_type": "code",
      "source": [],
      "metadata": {
        "id": "qXS-2Fa_hgVO"
      },
      "execution_count": null,
      "outputs": []
    },
    {
      "cell_type": "code",
      "source": [
        "# WHile loop\n",
        "# the while loop in python used to iteratew over a block of code as long as the test expression (condition) is true."
      ],
      "metadata": {
        "id": "jsQL7XVaZ6Jx"
      },
      "execution_count": null,
      "outputs": []
    },
    {
      "cell_type": "code",
      "source": [
        "# we genrally used this loop when we dont know beforehand, the number of times to iterate.\n",
        "\n",
        "\n",
        "\n",
        "n = 5\n",
        "while n>= 0:\n",
        "  print(n)\n",
        "  n -= 1\n",
        "  "
      ],
      "metadata": {
        "colab": {
          "base_uri": "https://localhost:8080/"
        },
        "id": "muEYXPkOaNtD",
        "outputId": "a0ec07b9-6cbf-43c1-8b45-90f5e4f4f520"
      },
      "execution_count": 12,
      "outputs": [
        {
          "output_type": "stream",
          "name": "stdout",
          "text": [
            "5\n",
            "4\n",
            "3\n",
            "2\n",
            "1\n",
            "0\n"
          ]
        }
      ]
    },
    {
      "cell_type": "code",
      "source": [
        "# Break & Continue\n",
        "# Break used to break the statements in loop\n",
        "\n",
        "\n",
        "for i in range(10):\n",
        "  if i >6:\n",
        "    break\n",
        "  print(i)"
      ],
      "metadata": {
        "colab": {
          "base_uri": "https://localhost:8080/"
        },
        "id": "L0g2LmH5bGix",
        "outputId": "3b17727e-7132-4a64-a905-89bedae1f6eb"
      },
      "execution_count": 26,
      "outputs": [
        {
          "output_type": "stream",
          "name": "stdout",
          "text": [
            "0\n",
            "1\n",
            "2\n",
            "3\n",
            "4\n",
            "5\n",
            "6\n"
          ]
        }
      ]
    },
    {
      "cell_type": "code",
      "source": [
        "for i in range(10):\n",
        "  if i == 8:\n",
        "    continue\n",
        "    print(i)\n",
        "\n",
        "    print(i)"
      ],
      "metadata": {
        "id": "5jAprp3dc_o9"
      },
      "execution_count": 29,
      "outputs": []
    },
    {
      "cell_type": "code",
      "source": [],
      "metadata": {
        "id": "3MZzcyCMh03z"
      },
      "execution_count": null,
      "outputs": []
    },
    {
      "cell_type": "code",
      "source": [
        "# Python String\n",
        "\n",
        "password = \"abcd\"\n",
        "print(password.isalpha())"
      ],
      "metadata": {
        "colab": {
          "base_uri": "https://localhost:8080/"
        },
        "id": "Yk-c88OHh00l",
        "outputId": "5965c8f0-54eb-4c62-8d47-c06ba36cf7c7"
      },
      "execution_count": 60,
      "outputs": [
        {
          "output_type": "stream",
          "name": "stdout",
          "text": [
            "True\n"
          ]
        }
      ]
    },
    {
      "cell_type": "code",
      "source": [
        "s = \"123\"\n",
        "print(s.isdigit())"
      ],
      "metadata": {
        "colab": {
          "base_uri": "https://localhost:8080/"
        },
        "id": "BlCxIkzyiDfJ",
        "outputId": "5974dd68-9baa-487d-f4df-5c6eb85b8582"
      },
      "execution_count": 61,
      "outputs": [
        {
          "output_type": "stream",
          "name": "stdout",
          "text": [
            "True\n"
          ]
        }
      ]
    },
    {
      "cell_type": "code",
      "source": [
        "\n",
        "\n",
        "# PYTHON LIST : a list is created by placing all items (elements) inside a square bracket[],sepreated by commas.\n"
      ],
      "metadata": {
        "id": "gohxyeHjiT5E"
      },
      "execution_count": null,
      "outputs": []
    },
    {
      "cell_type": "code",
      "source": [
        "my_list = [1,2,3,\"anuj\"]"
      ],
      "metadata": {
        "id": "o9mx9yDuitYd"
      },
      "execution_count": 62,
      "outputs": []
    },
    {
      "cell_type": "code",
      "source": [
        "print(my_list)"
      ],
      "metadata": {
        "colab": {
          "base_uri": "https://localhost:8080/"
        },
        "id": "yNUBGDq6i3l_",
        "outputId": "ac0aaa11-3c8f-4b37-966b-9c61d49aac38"
      },
      "execution_count": 63,
      "outputs": [
        {
          "output_type": "stream",
          "name": "stdout",
          "text": [
            "[1, 2, 3, 'anuj']\n"
          ]
        }
      ]
    },
    {
      "cell_type": "code",
      "source": [
        "type(my_list)"
      ],
      "metadata": {
        "colab": {
          "base_uri": "https://localhost:8080/"
        },
        "id": "kwZK7i6gi8Um",
        "outputId": "65d189de-9399-43b3-ac03-3691882501cc"
      },
      "execution_count": 64,
      "outputs": [
        {
          "output_type": "execute_result",
          "data": {
            "text/plain": [
              "list"
            ]
          },
          "metadata": {},
          "execution_count": 64
        }
      ]
    },
    {
      "cell_type": "code",
      "source": [
        "# indexing in list\n"
      ],
      "metadata": {
        "id": "DNFhJnowjB7_"
      },
      "execution_count": null,
      "outputs": []
    },
    {
      "cell_type": "code",
      "source": [
        "Fruits = [\"apple\",\"manago\",\"gava\"]"
      ],
      "metadata": {
        "id": "bZDUaZT7jF5q"
      },
      "execution_count": 65,
      "outputs": []
    },
    {
      "cell_type": "code",
      "source": [
        "print(Fruits[2])"
      ],
      "metadata": {
        "colab": {
          "base_uri": "https://localhost:8080/"
        },
        "id": "zbBR7UJLjGf4",
        "outputId": "83030953-4608-4385-aded-deb062c1cdc5"
      },
      "execution_count": 68,
      "outputs": [
        {
          "output_type": "stream",
          "name": "stdout",
          "text": [
            "gava\n"
          ]
        }
      ]
    },
    {
      "cell_type": "code",
      "source": [
        "print(Fruits[-1])"
      ],
      "metadata": {
        "colab": {
          "base_uri": "https://localhost:8080/"
        },
        "id": "A42jSW5Jjal-",
        "outputId": "9dd6ae4f-7de5-4ec6-a2cf-363521b220b7"
      },
      "execution_count": 69,
      "outputs": [
        {
          "output_type": "stream",
          "name": "stdout",
          "text": [
            "gava\n"
          ]
        }
      ]
    },
    {
      "cell_type": "code",
      "source": [
        "print(Fruits[:3])"
      ],
      "metadata": {
        "colab": {
          "base_uri": "https://localhost:8080/"
        },
        "id": "Oexqydwtjfcd",
        "outputId": "171acb39-c7ec-43b2-e798-07c4e30bf482"
      },
      "execution_count": 72,
      "outputs": [
        {
          "output_type": "stream",
          "name": "stdout",
          "text": [
            "['apple', 'manago', 'gava']\n"
          ]
        }
      ]
    },
    {
      "cell_type": "code",
      "source": [],
      "metadata": {
        "id": "4ikl_suijx8D"
      },
      "execution_count": null,
      "outputs": []
    },
    {
      "cell_type": "code",
      "source": [
        "# List is mutable (its can be change)."
      ],
      "metadata": {
        "id": "atdemTdojx5b"
      },
      "execution_count": null,
      "outputs": []
    },
    {
      "cell_type": "code",
      "source": [
        "Fruits = [\"apple\",\"manago\",\"gava\"]"
      ],
      "metadata": {
        "id": "S2vgVuF2jx16"
      },
      "execution_count": 73,
      "outputs": []
    },
    {
      "cell_type": "code",
      "source": [
        "Fruits[1] = 'Banana'\n",
        "print(Fruits)"
      ],
      "metadata": {
        "colab": {
          "base_uri": "https://localhost:8080/"
        },
        "id": "WsS_dumOjxyx",
        "outputId": "ed89a37f-b881-4075-e1b8-4f655a1dab49"
      },
      "execution_count": 74,
      "outputs": [
        {
          "output_type": "stream",
          "name": "stdout",
          "text": [
            "['apple', 'Banana', 'gava']\n"
          ]
        }
      ]
    },
    {
      "cell_type": "code",
      "source": [
        "# To Deleate the elements from List"
      ],
      "metadata": {
        "id": "aC4F4sP_kIAo"
      },
      "execution_count": null,
      "outputs": []
    },
    {
      "cell_type": "code",
      "source": [
        "Fruits = [\"apple\",\"manago\",\"gava\"]"
      ],
      "metadata": {
        "id": "QQ1oXouOkHiY"
      },
      "execution_count": 75,
      "outputs": []
    },
    {
      "cell_type": "code",
      "source": [
        "del Fruits[2]"
      ],
      "metadata": {
        "id": "S9P8VszDkQPT"
      },
      "execution_count": 76,
      "outputs": []
    },
    {
      "cell_type": "code",
      "source": [
        "print(Fruits)"
      ],
      "metadata": {
        "colab": {
          "base_uri": "https://localhost:8080/"
        },
        "id": "E3X1Qh1LkQMX",
        "outputId": "b2706c4a-2c47-4bf2-b064-a190d272359e"
      },
      "execution_count": 78,
      "outputs": [
        {
          "output_type": "stream",
          "name": "stdout",
          "text": [
            "['apple', 'manago']\n"
          ]
        }
      ]
    },
    {
      "cell_type": "code",
      "source": [],
      "metadata": {
        "id": "R8CcEXJ8khFf"
      },
      "execution_count": null,
      "outputs": []
    },
    {
      "cell_type": "code",
      "source": [
        "# List Comprehension \n",
        "# A Elegant and concise way to create a new list from an existing list in python"
      ],
      "metadata": {
        "id": "0DjrnGhQkhCL"
      },
      "execution_count": null,
      "outputs": []
    },
    {
      "cell_type": "code",
      "source": [
        "# new_list = [ Expression, for items in list, if condition]"
      ],
      "metadata": {
        "id": "l5zOE2wIkg_U"
      },
      "execution_count": null,
      "outputs": []
    },
    {
      "cell_type": "code",
      "source": [
        "a = [x for x in range(100) if x%2 == 1]"
      ],
      "metadata": {
        "id": "cfh6yvW5kz8Z"
      },
      "execution_count": 86,
      "outputs": []
    },
    {
      "cell_type": "code",
      "source": [
        "print(x)"
      ],
      "metadata": {
        "colab": {
          "base_uri": "https://localhost:8080/"
        },
        "id": "-SC3VgWll0F7",
        "outputId": "c112409e-f71a-4a3e-d848-be844593b68e"
      },
      "execution_count": 87,
      "outputs": [
        {
          "output_type": "stream",
          "name": "stdout",
          "text": [
            "[1, 2, 3, 4, 5, 6, 7, 8, 9, 10]\n"
          ]
        }
      ]
    },
    {
      "cell_type": "code",
      "source": [
        "b = [3**i for i in range(10)]"
      ],
      "metadata": {
        "id": "LwsZ-GV2l7Bi"
      },
      "execution_count": 88,
      "outputs": []
    },
    {
      "cell_type": "code",
      "source": [
        "print(b)"
      ],
      "metadata": {
        "colab": {
          "base_uri": "https://localhost:8080/"
        },
        "id": "2qHKXA4OmFIt",
        "outputId": "933af2dd-c1cf-4cd5-b6b0-dc7eb00511af"
      },
      "execution_count": 89,
      "outputs": [
        {
          "output_type": "stream",
          "name": "stdout",
          "text": [
            "[1, 3, 9, 27, 81, 243, 729, 2187, 6561, 19683]\n"
          ]
        }
      ]
    },
    {
      "cell_type": "markdown",
      "source": [
        "# LIST METHODS."
      ],
      "metadata": {
        "id": "G8YGkmo9mQ5O"
      }
    },
    {
      "cell_type": "code",
      "source": [
        "# APPEND : To ADD (at end in list)                                      # Reverse \n",
        "#INSERT : To Add()                                     #Index\n",
        "#Sort :                                         #count\n",
        "#Pop\n",
        "#Clear"
      ],
      "metadata": {
        "id": "W34NlKnnmWnM"
      },
      "execution_count": null,
      "outputs": []
    },
    {
      "cell_type": "code",
      "source": [],
      "metadata": {
        "id": "-tQKi2Wrmt9O"
      },
      "execution_count": null,
      "outputs": []
    },
    {
      "cell_type": "code",
      "source": [
        "a = [1,2,3]\n",
        "a.append(4)\n",
        "print(a)"
      ],
      "metadata": {
        "colab": {
          "base_uri": "https://localhost:8080/"
        },
        "id": "Sl2M7_2Dmt6K",
        "outputId": "93073bb5-5ccc-44cc-e1c9-483d7e584eda"
      },
      "execution_count": 90,
      "outputs": [
        {
          "output_type": "stream",
          "name": "stdout",
          "text": [
            "[1, 2, 3, 4]\n"
          ]
        }
      ]
    },
    {
      "cell_type": "code",
      "source": [
        "a.insert(1,0.5) # .insert(index_postion, new_values)"
      ],
      "metadata": {
        "id": "1NZjB_stnD6J"
      },
      "execution_count": 91,
      "outputs": []
    },
    {
      "cell_type": "code",
      "source": [
        "print(a)"
      ],
      "metadata": {
        "colab": {
          "base_uri": "https://localhost:8080/"
        },
        "id": "z6DvF7RQnHgz",
        "outputId": "9808d9f5-85a7-40fa-ff7f-6586b553c63e"
      },
      "execution_count": 92,
      "outputs": [
        {
          "output_type": "stream",
          "name": "stdout",
          "text": [
            "[1, 0.5, 2, 3, 4]\n"
          ]
        }
      ]
    },
    {
      "cell_type": "code",
      "source": [
        "a = [6,4,7,5,3,2]"
      ],
      "metadata": {
        "id": "_-g5iCSSnSoD"
      },
      "execution_count": 93,
      "outputs": []
    },
    {
      "cell_type": "code",
      "source": [
        "a.sort()"
      ],
      "metadata": {
        "id": "WSSGSsemne1D"
      },
      "execution_count": 95,
      "outputs": []
    },
    {
      "cell_type": "code",
      "source": [
        "print(a)"
      ],
      "metadata": {
        "colab": {
          "base_uri": "https://localhost:8080/"
        },
        "id": "_NdEioM9nSbT",
        "outputId": "b58341e5-2f1d-4e40-f90a-baf08bf67bdf"
      },
      "execution_count": 96,
      "outputs": [
        {
          "output_type": "stream",
          "name": "stdout",
          "text": [
            "[2, 3, 4, 5, 6, 7]\n"
          ]
        }
      ]
    },
    {
      "cell_type": "code",
      "source": [
        "a.pop(0)                    # to remove elements from index we use pop to remove the elements \n",
        "                               #.pop(index_no)"
      ],
      "metadata": {
        "colab": {
          "base_uri": "https://localhost:8080/"
        },
        "id": "8fmGNTrlnuaH",
        "outputId": "4a49f6cb-b4df-4194-e361-c51c47d7f7a4"
      },
      "execution_count": 97,
      "outputs": [
        {
          "output_type": "execute_result",
          "data": {
            "text/plain": [
              "2"
            ]
          },
          "metadata": {},
          "execution_count": 97
        }
      ]
    },
    {
      "cell_type": "code",
      "source": [
        "a.clear()                   # Delete all the elements from list)\n",
        "print(a)"
      ],
      "metadata": {
        "colab": {
          "base_uri": "https://localhost:8080/"
        },
        "id": "suNGxT4ToGkD",
        "outputId": "e993b980-96b0-400e-d340-8a9d5c506bce"
      },
      "execution_count": 98,
      "outputs": [
        {
          "output_type": "stream",
          "name": "stdout",
          "text": [
            "[]\n"
          ]
        }
      ]
    },
    {
      "cell_type": "code",
      "source": [
        "a = [6,4,7,5,3,2]"
      ],
      "metadata": {
        "id": "synD4V6NobfC"
      },
      "execution_count": 100,
      "outputs": []
    },
    {
      "cell_type": "code",
      "source": [
        "a.reverse()  # Reverse the list elements)\n",
        "print(a)"
      ],
      "metadata": {
        "colab": {
          "base_uri": "https://localhost:8080/"
        },
        "id": "f7CTdyQAoT3J",
        "outputId": "1d2cdfc6-a123-4b49-9b3e-a71b2d98a3e7"
      },
      "execution_count": 101,
      "outputs": [
        {
          "output_type": "stream",
          "name": "stdout",
          "text": [
            "[2, 3, 5, 7, 4, 6]\n"
          ]
        }
      ]
    },
    {
      "cell_type": "code",
      "source": [
        "Fruits = [\"apple\",\"manago\",\"gava\",'apple']"
      ],
      "metadata": {
        "id": "QYFEVNwyoGar"
      },
      "execution_count": 107,
      "outputs": []
    },
    {
      "cell_type": "code",
      "source": [
        "print(Fruits.index('apple'))"
      ],
      "metadata": {
        "colab": {
          "base_uri": "https://localhost:8080/"
        },
        "id": "9aZFB7zBnuXO",
        "outputId": "d38ef59a-0a51-4df4-f826-ea59a9c26c86"
      },
      "execution_count": 108,
      "outputs": [
        {
          "output_type": "stream",
          "name": "stdout",
          "text": [
            "0\n"
          ]
        }
      ]
    },
    {
      "cell_type": "code",
      "source": [
        "print(Fruits.count('apple'))"
      ],
      "metadata": {
        "colab": {
          "base_uri": "https://localhost:8080/"
        },
        "id": "os7z98nbnuUA",
        "outputId": "b2803931-1866-4789-d6a8-3d5f33393efb"
      },
      "execution_count": 109,
      "outputs": [
        {
          "output_type": "stream",
          "name": "stdout",
          "text": [
            "2\n"
          ]
        }
      ]
    },
    {
      "cell_type": "markdown",
      "source": [
        "# Lists_Functions"
      ],
      "metadata": {
        "id": "ediV40nmpCMr"
      }
    },
    {
      "cell_type": "code",
      "source": [
        "Len(list) # Lenghth of list\n",
        "max(list) # Maxmimum in list\n",
        "min(list) # Minimum in list\n",
        "sum(list) # Sum all the elements in list"
      ],
      "metadata": {
        "id": "nCIRSdEepGj5"
      },
      "execution_count": null,
      "outputs": []
    },
    {
      "cell_type": "code",
      "source": [],
      "metadata": {
        "id": "k7u_iYkTpPgD"
      },
      "execution_count": null,
      "outputs": []
    },
    {
      "cell_type": "code",
      "source": [
        "a = [1,2,3,6,8,14,85,200]"
      ],
      "metadata": {
        "id": "juqanypNpPdP"
      },
      "execution_count": 114,
      "outputs": []
    },
    {
      "cell_type": "code",
      "source": [
        "print(len(a))"
      ],
      "metadata": {
        "colab": {
          "base_uri": "https://localhost:8080/"
        },
        "id": "cW2K2qHupPZr",
        "outputId": "4ae56f7c-145f-440a-f88d-341bc8a0f2d1"
      },
      "execution_count": 111,
      "outputs": [
        {
          "output_type": "stream",
          "name": "stdout",
          "text": [
            "7\n"
          ]
        }
      ]
    },
    {
      "cell_type": "code",
      "source": [
        "print(max(a))"
      ],
      "metadata": {
        "colab": {
          "base_uri": "https://localhost:8080/"
        },
        "id": "emSMaDF4paMs",
        "outputId": "d89123aa-7ecd-4896-e5d8-410c9c58b50a"
      },
      "execution_count": 115,
      "outputs": [
        {
          "output_type": "stream",
          "name": "stdout",
          "text": [
            "200\n"
          ]
        }
      ]
    },
    {
      "cell_type": "code",
      "source": [
        "print(min(a))"
      ],
      "metadata": {
        "colab": {
          "base_uri": "https://localhost:8080/"
        },
        "id": "l3COsS0vrE5u",
        "outputId": "4e429b91-e8a1-49c2-cc67-cb09886b59c3"
      },
      "execution_count": 116,
      "outputs": [
        {
          "output_type": "stream",
          "name": "stdout",
          "text": [
            "1\n"
          ]
        }
      ]
    },
    {
      "cell_type": "code",
      "source": [
        "print(sum(a))"
      ],
      "metadata": {
        "colab": {
          "base_uri": "https://localhost:8080/"
        },
        "id": "8-BzjJH7rMZd",
        "outputId": "fda6d7a9-20a5-4053-f3fc-d5d3766947c4"
      },
      "execution_count": 118,
      "outputs": [
        {
          "output_type": "stream",
          "name": "stdout",
          "text": [
            "319\n"
          ]
        }
      ]
    },
    {
      "cell_type": "markdown",
      "source": [
        "#For LOOPS with List"
      ],
      "metadata": {
        "id": "AElPt1a3rUf_"
      }
    },
    {
      "cell_type": "code",
      "source": [
        "a = [2,5,6,8,11,16]"
      ],
      "metadata": {
        "id": "NJ4yWLNdrZV0"
      },
      "execution_count": 119,
      "outputs": []
    },
    {
      "cell_type": "code",
      "source": [
        "for  element in a:\n",
        "  print(element *2, end = \" \")\n"
      ],
      "metadata": {
        "colab": {
          "base_uri": "https://localhost:8080/"
        },
        "id": "0w_HaGt7rfQA",
        "outputId": "b36173f7-d0bf-4e88-ea0f-69d4249cb4b3"
      },
      "execution_count": 122,
      "outputs": [
        {
          "output_type": "stream",
          "name": "stdout",
          "text": [
            "4 10 12 16 22 32 "
          ]
        }
      ]
    },
    {
      "cell_type": "markdown",
      "source": [
        "# TUPLES \n"
      ],
      "metadata": {
        "id": "J1XT6ltEr7nz"
      }
    },
    {
      "cell_type": "markdown",
      "source": [
        "#A Tuples is Created by placing all the items(elements) inside Parentheses(),separated by commas. the Parenthesis are optional.\n",
        "#Tuples is imutable."
      ],
      "metadata": {
        "id": "-122zHFmr-fE"
      }
    },
    {
      "cell_type": "markdown",
      "source": [],
      "metadata": {
        "id": "FhiGty1cmQzM"
      }
    },
    {
      "cell_type": "markdown",
      "source": [
        "# Dictionary \n",
        "# Python Dictionary is an Unorderd Collection of items,while other compound data types have only value as an elements , a dictionary has a key : value pair\n",
        "\n",
        "my_dict = {key = 1:  Value ='apple',  Key = 2: Value = 'ball'}"
      ],
      "metadata": {
        "id": "eNEnCfr3tWb9"
      }
    },
    {
      "cell_type": "code",
      "source": [
        "marks = {'Rakesh':34,\"Prachi\":3}"
      ],
      "metadata": {
        "id": "-fm7Ng71t44f"
      },
      "execution_count": 130,
      "outputs": []
    },
    {
      "cell_type": "code",
      "source": [
        "print(marks)"
      ],
      "metadata": {
        "colab": {
          "base_uri": "https://localhost:8080/"
        },
        "id": "I3sdAiCEt40q",
        "outputId": "a8b475f2-bc89-4632-96cf-14f43996697b"
      },
      "execution_count": 131,
      "outputs": [
        {
          "output_type": "stream",
          "name": "stdout",
          "text": [
            "{'Rakesh': 34, 'Prachi': 3}\n"
          ]
        }
      ]
    },
    {
      "cell_type": "code",
      "source": [
        "print(marks[\"Rakesh\"])"
      ],
      "metadata": {
        "colab": {
          "base_uri": "https://localhost:8080/"
        },
        "id": "qNeG4bNhuuAd",
        "outputId": "b1e56380-2ea0-4d39-b424-58ea925e4f6d"
      },
      "execution_count": 135,
      "outputs": [
        {
          "output_type": "stream",
          "name": "stdout",
          "text": [
            "34\n"
          ]
        }
      ]
    },
    {
      "cell_type": "code",
      "source": [
        "print(marks[\"Prachi\"])"
      ],
      "metadata": {
        "colab": {
          "base_uri": "https://localhost:8080/"
        },
        "id": "rOOxZRtpvExS",
        "outputId": "dcab9ab0-ea02-474c-e0d2-7df8cac2992d"
      },
      "execution_count": 137,
      "outputs": [
        {
          "output_type": "stream",
          "name": "stdout",
          "text": [
            "3\n"
          ]
        }
      ]
    },
    {
      "cell_type": "code",
      "source": [
        "# Iterating Through a Dictionary"
      ],
      "metadata": {
        "id": "grtrb01yut88"
      },
      "execution_count": null,
      "outputs": []
    },
    {
      "cell_type": "code",
      "source": [
        "Squares = {1:1,3:9,5:25,7:49,9:81}"
      ],
      "metadata": {
        "id": "et1JMJB3ut6J"
      },
      "execution_count": 138,
      "outputs": []
    },
    {
      "cell_type": "code",
      "source": [
        "for i in Squares:\n",
        "  print(i,Squares[i])"
      ],
      "metadata": {
        "colab": {
          "base_uri": "https://localhost:8080/"
        },
        "id": "YU34LCC1vrwg",
        "outputId": "745ec5bd-efd7-4811-f6bd-b740c0e0f981"
      },
      "execution_count": 140,
      "outputs": [
        {
          "output_type": "stream",
          "name": "stdout",
          "text": [
            "1 1\n",
            "3 9\n",
            "5 25\n",
            "7 49\n",
            "9 81\n"
          ]
        }
      ]
    },
    {
      "cell_type": "code",
      "source": [],
      "metadata": {
        "id": "b8udG_6Cv9zX"
      },
      "execution_count": null,
      "outputs": []
    },
    {
      "cell_type": "code",
      "source": [
        "# Updating Dictionary Items\n",
        "# You can also update a dictionary by modifying extisting key values pair or by merging another dictionary to an existing one."
      ],
      "metadata": {
        "id": "LICH6H1Rv9vg"
      },
      "execution_count": null,
      "outputs": []
    },
    {
      "cell_type": "code",
      "source": [
        "marks = {'Rakesh':34,\"Prachi\":3}\n",
        "marks['Rohit'] = 99\n",
        "print(marks)\n",
        "marks['Rakesh'] = 45\n",
        "print(marks)"
      ],
      "metadata": {
        "colab": {
          "base_uri": "https://localhost:8080/"
        },
        "id": "ONzQ0gwnv9sj",
        "outputId": "94dfb8d0-7334-4b15-d377-68d56a389c17"
      },
      "execution_count": 143,
      "outputs": [
        {
          "output_type": "stream",
          "name": "stdout",
          "text": [
            "{'Rakesh': 34, 'Prachi': 3, 'Rohit': 99}\n",
            "{'Rakesh': 45, 'Prachi': 3, 'Rohit': 99}\n"
          ]
        }
      ]
    },
    {
      "cell_type": "markdown",
      "source": [
        "**                   # SETS **"
      ],
      "metadata": {
        "id": "6KGONnVkuD5n"
      }
    },
    {
      "cell_type": "code",
      "source": [],
      "metadata": {
        "id": "NfDhHgvft4wM"
      },
      "execution_count": null,
      "outputs": []
    },
    {
      "cell_type": "code",
      "source": [
        "a = {1,2,4,5,6,6,7}"
      ],
      "metadata": {
        "id": "QzgAebCit4s7"
      },
      "execution_count": 127,
      "outputs": []
    },
    {
      "cell_type": "code",
      "source": [
        "print(a)"
      ],
      "metadata": {
        "colab": {
          "base_uri": "https://localhost:8080/"
        },
        "id": "XI1DZv8tuAVN",
        "outputId": "2688daf0-45d0-45d2-c495-8798afe33d18"
      },
      "execution_count": 128,
      "outputs": [
        {
          "output_type": "stream",
          "name": "stdout",
          "text": [
            "{1, 2, 4, 5, 6, 7}\n"
          ]
        }
      ]
    },
    {
      "cell_type": "code",
      "source": [
        "for elements in a:\n",
        "  print(elements*2)"
      ],
      "metadata": {
        "colab": {
          "base_uri": "https://localhost:8080/"
        },
        "id": "q0vHJlczuIst",
        "outputId": "20059c07-c0a0-402d-c251-86a7b3fb50ad"
      },
      "execution_count": 129,
      "outputs": [
        {
          "output_type": "stream",
          "name": "stdout",
          "text": [
            "2\n",
            "4\n",
            "8\n",
            "10\n",
            "12\n",
            "14\n"
          ]
        }
      ]
    },
    {
      "cell_type": "code",
      "source": [],
      "metadata": {
        "id": "E-bq_ikdxDqs"
      },
      "execution_count": null,
      "outputs": []
    },
    {
      "cell_type": "markdown",
      "source": [
        "#Python Function Key"
      ],
      "metadata": {
        "id": "ivv8Ir7axESw"
      }
    },
    {
      "cell_type": "code",
      "source": [
        "# Function is a group of related statements that perform a specfic task.\n",
        "# Function helps break our programm into smaller and modular chunks. as our program grow larder and larger,\n",
        "#Function make it more organiszed and manageable"
      ],
      "metadata": {
        "id": "y9Fs0R4_xDog"
      },
      "execution_count": null,
      "outputs": []
    },
    {
      "cell_type": "code",
      "source": [],
      "metadata": {
        "id": "6ET8NX-dxDku"
      },
      "execution_count": null,
      "outputs": []
    },
    {
      "cell_type": "code",
      "source": [],
      "metadata": {
        "id": "JJcqykSYz8rp"
      },
      "execution_count": null,
      "outputs": []
    },
    {
      "cell_type": "markdown",
      "source": [
        " # CATEGORIES OF FUNCTIONS"
      ],
      "metadata": {
        "id": "vypYCwuyyH4T"
      }
    },
    {
      "cell_type": "code",
      "source": [
        "#BUILT_IN_FUNCTIOIN\n",
        "#MODULES_FUNCTION\n",
        "#USER_DEFINED_FUNCTION"
      ],
      "metadata": {
        "id": "tF1uqaEkyMWN"
      },
      "execution_count": null,
      "outputs": []
    },
    {
      "cell_type": "markdown",
      "source": [],
      "metadata": {
        "id": "zdPBZTbmyHxk"
      }
    },
    {
      "cell_type": "code",
      "source": [
        "# BUILT_Function :\n",
        "#.int()\n",
        "#range()\n",
        "#type()\n",
        "#Round()\n",
        "#Len()"
      ],
      "metadata": {
        "id": "CKEKGkQgyYP-"
      },
      "execution_count": null,
      "outputs": []
    },
    {
      "cell_type": "code",
      "source": [
        "# MODULES_ FUNCTION :\n",
        "# A module is a file containing Functions and variable Defined in separate Files.\n",
        "# A module is simply a file that contains Python_code."
      ],
      "metadata": {
        "id": "P2jE09yAytM0"
      },
      "execution_count": null,
      "outputs": []
    },
    {
      "cell_type": "code",
      "source": [
        "# Importand Modules :\n",
        "# Math\n",
        "# Rando\n",
        "# String"
      ],
      "metadata": {
        "id": "SkT_yzahzJb7"
      },
      "execution_count": null,
      "outputs": []
    },
    {
      "cell_type": "code",
      "source": [
        "import math as m # Modulues as a Libarary \n",
        "\n",
        "print(m.pi)\n"
      ],
      "metadata": {
        "colab": {
          "base_uri": "https://localhost:8080/"
        },
        "id": "hWn8O7OszSMg",
        "outputId": "fd55e389-6c51-43c3-c773-26367c12e939"
      },
      "execution_count": 149,
      "outputs": [
        {
          "output_type": "stream",
          "name": "stdout",
          "text": [
            "3.141592653589793\n"
          ]
        }
      ]
    },
    {
      "cell_type": "code",
      "source": [
        "# User Define_Function\n",
        "# def function_name (Arruguments):"
      ],
      "metadata": {
        "id": "7Dp4qRr0zqR8"
      },
      "execution_count": null,
      "outputs": []
    },
    {
      "cell_type": "code",
      "source": [],
      "metadata": {
        "id": "UnXb8NtJ0xjQ"
      },
      "execution_count": null,
      "outputs": []
    }
  ]
}