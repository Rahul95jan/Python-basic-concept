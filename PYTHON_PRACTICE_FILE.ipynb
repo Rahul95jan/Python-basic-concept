{
  "nbformat": 4,
  "nbformat_minor": 0,
  "metadata": {
    "colab": {
      "provenance": [],
      "authorship_tag": "ABX9TyMD7J2mo+WKMbvMUA9KnEPm",
      "include_colab_link": true
    },
    "kernelspec": {
      "name": "python3",
      "display_name": "Python 3"
    },
    "language_info": {
      "name": "python"
    }
  },
  "cells": [
    {
      "cell_type": "markdown",
      "metadata": {
        "id": "view-in-github",
        "colab_type": "text"
      },
      "source": [
        "<a href=\"https://colab.research.google.com/github/Rahul95jan/Rahul/blob/main/PYTHON_PRACTICE_FILE.ipynb\" target=\"_parent\"><img src=\"https://colab.research.google.com/assets/colab-badge.svg\" alt=\"Open In Colab\"/></a>"
      ]
    },
    {
      "cell_type": "markdown",
      "source": [
        "**STARTING FIRST TYME CODING**\n"
      ],
      "metadata": {
        "id": "mQLqzzckzlam"
      }
    },
    {
      "cell_type": "code",
      "execution_count": 1,
      "metadata": {
        "id": "cGOTezvBwuQP"
      },
      "outputs": [],
      "source": [
        "a = \"welcome to relevel\""
      ]
    },
    {
      "cell_type": "markdown",
      "source": [
        "indexing\n"
      ],
      "metadata": {
        "id": "jUQVdc8u30yE"
      }
    },
    {
      "cell_type": "code",
      "source": [
        "a[8:10]"
      ],
      "metadata": {
        "colab": {
          "base_uri": "https://localhost:8080/",
          "height": 36
        },
        "id": "wOp0zRqqw2Ev",
        "outputId": "7c90035c-4365-4e81-fd0e-ac33baea232a"
      },
      "execution_count": 2,
      "outputs": [
        {
          "output_type": "execute_result",
          "data": {
            "text/plain": [
              "'to'"
            ],
            "application/vnd.google.colaboratory.intrinsic+json": {
              "type": "string"
            }
          },
          "metadata": {},
          "execution_count": 2
        }
      ]
    },
    {
      "cell_type": "code",
      "source": [
        "print('rahul')"
      ],
      "metadata": {
        "colab": {
          "base_uri": "https://localhost:8080/"
        },
        "id": "mu9NUbyUw9-S",
        "outputId": "fe55a75c-816e-4b58-e657-7960a90fc1cf"
      },
      "execution_count": 5,
      "outputs": [
        {
          "output_type": "stream",
          "name": "stdout",
          "text": [
            "rahul\n"
          ]
        }
      ]
    },
    {
      "cell_type": "code",
      "source": [
        "print(\"anything\")"
      ],
      "metadata": {
        "colab": {
          "base_uri": "https://localhost:8080/"
        },
        "id": "U455IQHHxie3",
        "outputId": "a8ca22b9-25ad-4e9c-bc64-9d678fb775ac"
      },
      "execution_count": 9,
      "outputs": [
        {
          "output_type": "stream",
          "name": "stdout",
          "text": [
            "anything\n"
          ]
        }
      ]
    },
    {
      "cell_type": "code",
      "source": [
        "a = \"i am happy human\""
      ],
      "metadata": {
        "id": "V_lHpof4xqv1"
      },
      "execution_count": 10,
      "outputs": []
    },
    {
      "cell_type": "code",
      "source": [
        "print (a)"
      ],
      "metadata": {
        "colab": {
          "base_uri": "https://localhost:8080/"
        },
        "id": "O1xHvOVCxwFi",
        "outputId": "4e4ecb0b-bfec-4cb1-a1a3-69c454609218"
      },
      "execution_count": 15,
      "outputs": [
        {
          "output_type": "stream",
          "name": "stdout",
          "text": [
            "i am happy human\n"
          ]
        }
      ]
    },
    {
      "cell_type": "code",
      "source": [
        " print (\"Relevel\\nby\\nUnacademy\")"
      ],
      "metadata": {
        "colab": {
          "base_uri": "https://localhost:8080/"
        },
        "id": "73iZTke3yHKF",
        "outputId": "fb56467c-5b75-40fc-96d5-c3e2923f172a"
      },
      "execution_count": 16,
      "outputs": [
        {
          "output_type": "stream",
          "name": "stdout",
          "text": [
            "Relevel\n",
            "by\n",
            "Unacademy\n"
          ]
        }
      ]
    },
    {
      "cell_type": "markdown",
      "source": [
        "**DEFINE LIST**"
      ],
      "metadata": {
        "id": "8oguTZVIzxtr"
      }
    },
    {
      "cell_type": "code",
      "source": [
        "a = [2,5,5,\"the lione\"]\n",
        "\n",
        "b = [2,5,6,\"the tiger\"]\n",
        "\n",
        "print(b)"
      ],
      "metadata": {
        "colab": {
          "base_uri": "https://localhost:8080/"
        },
        "id": "0zIZNNdayK31",
        "outputId": "f741bdf8-a08d-4585-ffbd-6e0dcf47c37a"
      },
      "execution_count": 20,
      "outputs": [
        {
          "output_type": "stream",
          "name": "stdout",
          "text": [
            "[2, 5, 6, 'the tiger']\n"
          ]
        }
      ]
    },
    {
      "cell_type": "markdown",
      "source": [
        "**APPEND USE TO ADD SOMETHING IN VARIABLES**\n"
      ],
      "metadata": {
        "id": "cFdZVMZNz1jD"
      }
    },
    {
      "cell_type": "code",
      "source": [
        "a.append('the view')"
      ],
      "metadata": {
        "id": "QoxtfuJRzGp_"
      },
      "execution_count": 21,
      "outputs": []
    },
    {
      "cell_type": "code",
      "source": [
        "print(a)"
      ],
      "metadata": {
        "colab": {
          "base_uri": "https://localhost:8080/"
        },
        "id": "suMbdP81zRLn",
        "outputId": "5d80909c-a1aa-4502-90da-c2694a4151e8"
      },
      "execution_count": 22,
      "outputs": [
        {
          "output_type": "stream",
          "name": "stdout",
          "text": [
            "[2, 5, 5, 'the lione', 'the view']\n"
          ]
        }
      ]
    },
    {
      "cell_type": "code",
      "source": [
        "a = [10,20,30,60]"
      ],
      "metadata": {
        "id": "-bpn4zCdzVo4"
      },
      "execution_count": 23,
      "outputs": []
    },
    {
      "cell_type": "markdown",
      "source": [
        "**EXTEND USE TO INCREASE THE LIST NUMBER**"
      ],
      "metadata": {
        "id": "g84gzQXwz74F"
      }
    },
    {
      "cell_type": "code",
      "source": [
        "a.extend([61,92])"
      ],
      "metadata": {
        "id": "4a3kBBEAzYG7"
      },
      "execution_count": 24,
      "outputs": []
    },
    {
      "cell_type": "code",
      "source": [
        "print(a)"
      ],
      "metadata": {
        "colab": {
          "base_uri": "https://localhost:8080/"
        },
        "id": "_hojoZGYzhhQ",
        "outputId": "34c67597-56ba-450c-c32e-c8d8ff0343b0"
      },
      "execution_count": 25,
      "outputs": [
        {
          "output_type": "stream",
          "name": "stdout",
          "text": [
            "[10, 20, 30, 60, 61, 92]\n"
          ]
        }
      ]
    },
    {
      "cell_type": "code",
      "source": [],
      "metadata": {
        "id": "3Bwpnq-100hw"
      },
      "execution_count": null,
      "outputs": []
    },
    {
      "cell_type": "markdown",
      "source": [
        "**INSERT USE TO INSERT THE NUMBER IN LIST**\n",
        "\n",
        "element to the list at the specified index."
      ],
      "metadata": {
        "id": "jQEhmzE50Fn1"
      }
    },
    {
      "cell_type": "code",
      "source": [
        "a.insert(2,5)"
      ],
      "metadata": {
        "id": "11cj3Ymy0Kxd"
      },
      "execution_count": 31,
      "outputs": []
    },
    {
      "cell_type": "code",
      "source": [
        "print(a)"
      ],
      "metadata": {
        "colab": {
          "base_uri": "https://localhost:8080/"
        },
        "id": "AYR3DQL20t9L",
        "outputId": "70e29c55-0c5a-449b-fd80-9b5ef996f851"
      },
      "execution_count": 32,
      "outputs": [
        {
          "output_type": "stream",
          "name": "stdout",
          "text": [
            "[10, 20, 5, 30, 60, 61, 92]\n"
          ]
        }
      ]
    },
    {
      "cell_type": "code",
      "source": [
        "c = 'R'\n",
        "print(\"The ASCII value of  c is\",ord(c))"
      ],
      "metadata": {
        "colab": {
          "base_uri": "https://localhost:8080/"
        },
        "id": "1s6P-ZTS1Dt8",
        "outputId": "8701e7bd-4843-465c-b326-997685eea446"
      },
      "execution_count": 37,
      "outputs": [
        {
          "output_type": "stream",
          "name": "stdout",
          "text": [
            "The ASCII value of  c is 82\n"
          ]
        }
      ]
    },
    {
      "cell_type": "code",
      "source": [
        "num_list = ['1','94','93','1000']\n"
      ],
      "metadata": {
        "id": "voof20MQ1cgj"
      },
      "execution_count": 46,
      "outputs": []
    },
    {
      "cell_type": "code",
      "source": [
        "print(min(num_list))"
      ],
      "metadata": {
        "colab": {
          "base_uri": "https://localhost:8080/"
        },
        "id": "GKbxgDzP1enz",
        "outputId": "d2e7d203-5747-43b6-8629-63a96b417510"
      },
      "execution_count": 40,
      "outputs": [
        {
          "output_type": "stream",
          "name": "stdout",
          "text": [
            "1\n"
          ]
        }
      ]
    },
    {
      "cell_type": "code",
      "source": [
        "print(max(num_list))"
      ],
      "metadata": {
        "colab": {
          "base_uri": "https://localhost:8080/"
        },
        "id": "IV1-VOmY1mmX",
        "outputId": "8c1e9c6e-161a-4f91-e5d1-7a087b1498af"
      },
      "execution_count": 42,
      "outputs": [
        {
          "output_type": "stream",
          "name": "stdout",
          "text": [
            "94\n"
          ]
        }
      ]
    },
    {
      "cell_type": "code",
      "source": [
        "num_list = [-30, 1, 102, 94, 3, 1000]"
      ],
      "metadata": {
        "id": "iAf_oGiY1x9W"
      },
      "execution_count": 48,
      "outputs": []
    },
    {
      "cell_type": "code",
      "source": [
        "print(sum(num_list))"
      ],
      "metadata": {
        "colab": {
          "base_uri": "https://localhost:8080/"
        },
        "id": "2GhEgOYj2YLp",
        "outputId": "63169807-9cda-4eb2-e100-6601906ee3e9"
      },
      "execution_count": 50,
      "outputs": [
        {
          "output_type": "stream",
          "name": "stdout",
          "text": [
            "1170\n"
          ]
        }
      ]
    },
    {
      "cell_type": "code",
      "source": [
        "names = ['Earth','Air','Fire','Water']\n",
        "\n",
        "print(max(names,key=len))"
      ],
      "metadata": {
        "colab": {
          "base_uri": "https://localhost:8080/"
        },
        "id": "DMUt4o182NnN",
        "outputId": "22079056-350a-47c0-8640-51e6331bae51"
      },
      "execution_count": 51,
      "outputs": [
        {
          "output_type": "stream",
          "name": "stdout",
          "text": [
            "Earth\n"
          ]
        }
      ]
    },
    {
      "cell_type": "code",
      "source": [
        "print(min(names,key=len))"
      ],
      "metadata": {
        "colab": {
          "base_uri": "https://localhost:8080/"
        },
        "id": "JAzHP1Kx2qeF",
        "outputId": "586e11cb-9eec-447d-97d9-a84a52c74171"
      },
      "execution_count": 52,
      "outputs": [
        {
          "output_type": "stream",
          "name": "stdout",
          "text": [
            "Air\n"
          ]
        }
      ]
    },
    {
      "cell_type": "code",
      "source": [
        "bad = \"every one is ready to die\"\n",
        "\n",
        "print(bad)"
      ],
      "metadata": {
        "colab": {
          "base_uri": "https://localhost:8080/"
        },
        "id": "cFDaSvmA2t3i",
        "outputId": "22ad863d-8157-4d94-eb96-f0cc64546007"
      },
      "execution_count": 56,
      "outputs": [
        {
          "output_type": "stream",
          "name": "stdout",
          "text": [
            "every one is ready to die\n"
          ]
        }
      ]
    },
    {
      "cell_type": "code",
      "source": [
        "list1=('Relevel')\n"
      ],
      "metadata": {
        "id": "X1R4u-Bo3YgQ"
      },
      "execution_count": 57,
      "outputs": []
    },
    {
      "cell_type": "code",
      "source": [
        "print(bad.split())"
      ],
      "metadata": {
        "colab": {
          "base_uri": "https://localhost:8080/"
        },
        "id": "N_RtSlRY3csP",
        "outputId": "ac00d1dd-20a5-44c3-c636-73fa74a949fe"
      },
      "execution_count": 60,
      "outputs": [
        {
          "output_type": "stream",
          "name": "stdout",
          "text": [
            "['every', 'one', 'is', 'ready', 'to', 'die']\n"
          ]
        }
      ]
    }
  ]
}